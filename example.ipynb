{
 "cells": [
  {
   "cell_type": "markdown",
   "id": "5e730f2d-7c63-4603-aadd-08fc7e1d4a62",
   "metadata": {},
   "source": [
    "# Example usage of the u_tensor_algebra.py\n",
    "\n",
    "Suppose we want to compute the expression of the unbiased estimator version of\n",
    "\n",
    "$$\\sum_{i_1, i_2} \\sum_{a_1,a_2} X_{i_1,a_1}X_{i_2,a_1}X_{i_1,a_2}X_{i_2,a_2} $$\n",
    "\n",
    "which, in this example, is the second spectral moment.\n",
    "The unbiased version can be computed by\n",
    "\n",
    "$$\\sum_{i_1 \\neq i_2} \\sum_{a_1 \\neq a_2} X_{i_1,a_1}X_{i_2,a_1}X_{i_1,a_2}X_{i_2,a_2} $$\n",
    "\n",
    "Calling get_unbiased_einsums will derive the expression of the above sum in terms of \"regular sums\" (i.e. no disjoint-index constraint).\n",
    "The expression will be written in the form of einsum notation\n",
    "\n",
    "The expression can then be provided to compute_estimate, along with an actual dataset, to compute the unbiased estimate.\n",
    "\n",
    "\n",
    "By Chanwoo Chun, Mar. 2025"
   ]
  },
  {
   "cell_type": "code",
   "execution_count": 9,
   "id": "8c1885da-49be-4b66-89d6-b975ce82bac4",
   "metadata": {},
   "outputs": [
    {
     "name": "stdout",
     "output_type": "stream",
     "text": [
      "Distinct indices:  [('0', '2', '3', '5'), ('1', '4')]\n",
      "Add or Subtract:  1\n",
      "Formula:  {'X1': ('0', '1'), 'X2': ('2', '1'), 'X3': ('3', '4'), 'X4': ('5', '4')}\n",
      "\n",
      "Distinct indices:  [('0', '2', '4'), ('1', '3')]\n",
      "Add or Subtract:  -1\n",
      "Formula:  {'X1': ('0', '1'), 'X2': ('2', '1'), 'X3': ('2', '3'), 'X4': ('4', '3')}\n",
      "\n",
      "Distinct indices:  [('0', '2', '3'), ('1', '4')]\n",
      "Add or Subtract:  -1\n",
      "Formula:  {'X1': ('0', '1'), 'X2': ('2', '1'), 'X3': ('3', '4'), 'X4': ('0', '4')}\n",
      "\n",
      "Distinct indices:  [('0', '2'), ('1', '3')]\n",
      "Add or Subtract:  1\n",
      "Formula:  {'X1': ('0', '1'), 'X2': ('2', '1'), 'X3': ('2', '3'), 'X4': ('0', '3')}\n",
      "\n"
     ]
    }
   ],
   "source": [
    "import u_tensor_algebra as uta\n",
    "\n",
    "# Define matrix names and their indices in summation.\n",
    "all_indices   = {\n",
    "    'X1': ('i1','a1'),\n",
    "    'X2': ('i2','a1'),\n",
    "    'X3': ('i2','a2'),\n",
    "    'X4': ('i1','a2')}\n",
    "\n",
    "# The instruction below means that we want to center all columns individually.\n",
    "centerings = {\n",
    "    'X1': ('','c'),\n",
    "    'X2': ('','c'),\n",
    "    'X3': ('','c'),\n",
    "    'X4': ('','c')}\n",
    "\n",
    "dist_groups = [('i1','i2'),('a1','a2')]\n",
    "\n",
    "# Compute the expression of the unbiased estimator\n",
    "estimator_formula = uta.get_unbiased_einsums(all_indices,centerings,dist_groups)\n"
   ]
  },
  {
   "cell_type": "code",
   "execution_count": 10,
   "id": "78ee6538-6d80-452d-8db2-15c4b92019d7",
   "metadata": {},
   "outputs": [
    {
     "name": "stdout",
     "output_type": "stream",
     "text": [
      "{'X1': (150, 200), 'X2': (150, 200), 'X3': (150, 200), 'X4': (150, 200)}\n",
      "\n",
      "0.0037856258757100747\n",
      "-0.005984057701624579\n",
      "-0.005984057701624579\n",
      "0.010373302546213381\n",
      "\n",
      "Total number of terms:  164\n",
      "Estimate:  0.002190813018674298\n"
     ]
    }
   ],
   "source": [
    "import numpy as np\n",
    "import jax.numpy as jnp\n",
    "\n",
    "np.random.seed(10)\n",
    "\n",
    "P=150\n",
    "Q=200\n",
    "d=4\n",
    "\n",
    "Xin = jnp.array(np.random.randn(P,d))\n",
    "W = jnp.array(np.random.randn(d,Q))\n",
    "W2 = jnp.array(np.random.randn(d,Q))\n",
    "Xa = jnp.square(jnp.matmul(Xin,W)/d)\n",
    "Xb = jnp.square(jnp.matmul(Xin,W2)/d)\n",
    "\n",
    "# Now assign the data matrix (or matrices) to the matrix names. In this case, all matrix names get the same matrix.\n",
    "factor_data = { 'X1': Xa, 'X2': Xa, 'X3': Xa, 'X4': Xa} \n",
    "\n",
    "# Compute the estimate\n",
    "estimate = uta.compute_estimate(factor_data, estimator_formula)\n"
   ]
  },
  {
   "cell_type": "code",
   "execution_count": null,
   "id": "12f0f6fc-34e5-45ec-96c9-f0157f92b585",
   "metadata": {},
   "outputs": [],
   "source": []
  },
  {
   "cell_type": "code",
   "execution_count": null,
   "id": "da3f24fa-7f84-4c78-b5d6-b597e10f722e",
   "metadata": {},
   "outputs": [],
   "source": []
  }
 ],
 "metadata": {
  "kernelspec": {
   "display_name": "backprop",
   "language": "python",
   "name": "backprop"
  },
  "language_info": {
   "codemirror_mode": {
    "name": "ipython",
    "version": 3
   },
   "file_extension": ".py",
   "mimetype": "text/x-python",
   "name": "python",
   "nbconvert_exporter": "python",
   "pygments_lexer": "ipython3",
   "version": "3.12.2"
  }
 },
 "nbformat": 4,
 "nbformat_minor": 5
}
